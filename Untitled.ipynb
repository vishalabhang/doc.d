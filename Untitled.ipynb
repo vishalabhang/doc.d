{
 "cells": [
  {
   "cell_type": "code",
   "execution_count": 1,
   "id": "95dab028-6aa6-4de1-a09c-892f5f4b077b",
   "metadata": {},
   "outputs": [],
   "source": [
    "import requests "
   ]
  },
  {
   "cell_type": "code",
   "execution_count": 2,
   "id": "85c893f6-4b2e-4365-bc16-1560db8395e0",
   "metadata": {},
   "outputs": [
    {
     "data": {
      "text/plain": [
       "<Response [401]>"
      ]
     },
     "execution_count": 2,
     "metadata": {},
     "output_type": "execute_result"
    }
   ],
   "source": [
    "body =uest\n",
    "Response\n",
    "\n",
    "{\n",
    "    \"source_url\": \"https://myhost.com/image.jpg\",\n",
    "    \"script\": {\n",
    "        \"type\": \"text\",\n",
    "        \"input\": \"Hello world!\"\n",
    "    }\n",
    "}\n",
    "r=requests.post(\"https://api.d-id.com/talks\")"
   ]
  },
  {
   "cell_type": "code",
   "execution_count": null,
   "id": "a076be6e-efca-496c-ae1a-b3d63a698acd",
   "metadata": {},
   "outputs": [],
   "source": []
  }
 ],
 "metadata": {
  "kernelspec": {
   "display_name": "Python 3 (ipykernel)",
   "language": "python",
   "name": "python3"
  },
  "language_info": {
   "codemirror_mode": {
    "name": "ipython",
    "version": 3
   },
   "file_extension": ".py",
   "mimetype": "text/x-python",
   "name": "python",
   "nbconvert_exporter": "python",
   "pygments_lexer": "ipython3",
   "version": "3.11.7"
  }
 },
 "nbformat": 4,
 "nbformat_minor": 5
}
